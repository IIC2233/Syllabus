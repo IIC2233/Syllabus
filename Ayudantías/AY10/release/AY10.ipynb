{
 "cells": [
  {
   "cell_type": "markdown",
   "metadata": {
    "id": "B7lXO6Uzc62v"
   },
   "source": [
    "# Ayudantía 10: Serialización y Networking I 🤖\n",
    "\n",
    "## Ayudantes 👾\n",
    "\n",
    "Y sus recomendaciones semanales 🎵\n",
    "\n",
    "- S1: Enzo Acosta\n",
    "  - [To Love - Suki Waterhouse](https://www.youtube.com/watch?v=rHVsf8e0-lA&list=RDrHVsf8e0-lA&start_radio=1)\n",
    "- S2: Bastián Pérez\n",
    "  - [DCCPuchamon](https://youtu.be/Y2snZMA7d7o?si=151DbOfTcj6D1ykP&t=44)\n",
    "- S3: Clemente Campos\n",
    "  - [N.I.B. - Black Sabbath](https://youtu.be/HFzDKTNLr2k?si=Yn5aRc2XTR6KCIbw)\n",
    "- S4: Carlos Olguín\n",
    "  - [I wanna be adored - The Stone Roses](https://www.youtube.com/watch?v=4D2qcbu26gs&list=RD4D2qcbu26gs&start_radio=1)\n",
    "- S5: Carlos Martel\n",
    "  - [Notion - The Rare Occasions](https://www.youtube.com/watch?v=PD1EXJScA6k&list=RDPD1EXJScA6k&start_radio=1)\n",
    "\n",
    "Con aparición especial de:\n",
    "- Daniela Concha\n",
    "  - [Emptylands by Blood Cultures](https://youtu.be/6xmf1a-HZas?si=VaJnV7xjVMFlphfT)\n",
    "\n",
    "\n",
    "## Contenidos 📖\n",
    "\n",
    "- Networking y Webservices\n",
    "- Uso de API's\n",
    "- Serialización\n",
    "- Concepto cliente/servidor\n",
    "\n",
    "## Introducción\n",
    "En esta ayudantía trabajaremos en el uso de conceptos de Networking como cliente y servidor especificamente en webservices, donde buscaremos emplear API's para gestionar diversos tipos de solicitudes!\n",
    "\n",
    "## DCCPuchamon\n",
    "\n",
    "¡Sorpresa! Nuevamente estás aburrido en tu escritorio evadiendo responsabilidades, cuando recuerdas tu saga favorita, ¡Pokémon! y su gran cantidad de pokemones te da la idea de crear algún proyecto que te permita ocupar tus conocimientos de programación avanzada y crear un webservice basado en la pokédex de pokémon.\n",
    "\n",
    "Para esto deberás completar las siguientes funciones:\n",
    "\n",
    "**En `server.py`:**\n",
    "\n",
    "* **`acciones_pokedex`**:\n",
    "    * Para `GET`, debes cargar y devolver la lista completa de Pokémon.\n",
    "    * Para `POST`, debes añadir un nuevo Pokémon, lo que implica: validar la autorización (token enviado en el header igual a `utils.AUTH_TOKEN`), verificar que los datos del pokemon recibidos en el `body` (JSON) sean correctos y que el `id` o `nombre` no existan ya en `pokemon.json`, y finalmente guardar la lista actualizada. (Revisa en pokemon.json la estructura de un diccionario con los datos de un Pokemon)\n",
    "\n",
    "* **`obtener_tipos`**:\n",
    "    * Debes cargar todos los Pokémon, recorrerlos para recolectar todos sus tipos en un `set` (para evitar duplicados) y devolverlo como una lista.\n",
    "\n",
    "* **`pokemons_por_tipo`**:\n",
    "    * Debes cargar los Pokémon y filtrar la lista para devolver solo los nombres de aquellos que tengan el `tipo` especificado en la URL.\n",
    "\n",
    "* **`obtener_pokemon`**:\n",
    "    * Debes encontrar un Pokémon por su `id` o `nombre`.\n",
    "    * Si el método es `GET`, lo devuelves.\n",
    "    * Si es `PATCH`, actualizas sus `stats` (requiere autorización).\n",
    "    * Si es `DELETE`, lo eliminas de la lista (requiere autorización).\n",
    "\n",
    "* **`batalla_pokemon`**:\n",
    "    * Debes obtener los datos de dos Pokémon, determinar quién ataca primero basándote en su velocidad (`spd`), y simular turnos de ataque hasta que el `hp` de uno llegue a cero, declarando un ganador.\n",
    "    * Se te entregará la función `dano_ataque(pokemon_1, pokemon_2)` que recibe los diccionarios de datos de dos pokemones y devuelve el daño que hace pokemon_1 sobre pokemon_2.\n",
    "\n",
    "* **`obtener_condicional`**:\n",
    "    * Debes filtrar la Pokedex usando parámetros opcionales en la URL. Tienes que leer los `tipos`, `hp`, `atk` y `spd` de `request.args` y devolver solo los Pokémon que cumplan con todos los criterios especificados (para hp, atk y spd deberas retornar que cumplan que sean >=)\n",
    "\n",
    "\n",
    "\n",
    "💡 *Nota:* Recuerda especificar bien los argumentos en los endpoints y que tipo sera este (GET, POST, ...)\n",
    "\n",
    "\n"
   ]
  },
  {
   "cell_type": "markdown",
   "metadata": {},
   "source": [
    "# 🧩 Requests — PokeApi\n",
    "\n",
    "Elabora una o más requests para cada uno de los endpoints solicitados."
   ]
  },
  {
   "cell_type": "code",
   "execution_count": null,
   "metadata": {
    "colab": {
     "base_uri": "https://localhost:8080/"
    },
    "executionInfo": {
     "elapsed": 76,
     "status": "ok",
     "timestamp": 1753727539658,
     "user": {
      "displayName": "CLEMENTE CAMPOS",
      "userId": "05449692516689846873"
     },
     "user_tz": 240
    },
    "id": "qlvODuG-c3r5",
    "outputId": "1b3fe704-1c02-4807-bd77-7bedee5cdc19"
   },
   "outputs": [],
   "source": [
    "import requests\n",
    "import json\n",
    "\n",
    "BASE = \"http://127.0.0.1:5001\"\n",
    "AUTH_TOKEN = \"IIC2233\""
   ]
  },
  {
   "cell_type": "markdown",
   "metadata": {},
   "source": [
    "## 1️⃣ GET `/pokedex`"
   ]
  },
  {
   "cell_type": "code",
   "execution_count": null,
   "metadata": {},
   "outputs": [],
   "source": [
    "#TODO:\n",
    "raise NotImplementedError"
   ]
  },
  {
   "cell_type": "markdown",
   "metadata": {},
   "source": [
    "## 2️⃣ POST `/pokedex` (requiere autorización)\n",
    "\n",
    "Crea un diccionario con los datos de un pokemon a agregar y realiza la request con este en el body.\n",
    "\n",
    "💡 *Nota:* El diccionario debe tener los campos id(int), nombre(str), tipos(list[str]) y stats(dict con los campos[hp(int), atk(int), spd(int)])"
   ]
  },
  {
   "cell_type": "code",
   "execution_count": null,
   "metadata": {},
   "outputs": [],
   "source": [
    "#TODO:\n",
    "raise NotImplementedError"
   ]
  },
  {
   "cell_type": "markdown",
   "metadata": {},
   "source": [
    "## 3️⃣ GET `/pokedex/tipos`"
   ]
  },
  {
   "cell_type": "code",
   "execution_count": null,
   "metadata": {},
   "outputs": [],
   "source": [
    "#TODO:\n",
    "raise NotImplementedError"
   ]
  },
  {
   "cell_type": "markdown",
   "metadata": {},
   "source": [
    "## 4️⃣ GET `/pokedex/tipos/<tipo>`"
   ]
  },
  {
   "cell_type": "code",
   "execution_count": null,
   "metadata": {},
   "outputs": [],
   "source": [
    "#TODO:\n",
    "raise NotImplementedError"
   ]
  },
  {
   "cell_type": "markdown",
   "metadata": {},
   "source": [
    "## 5️⃣ GET `/pokedex/<identifier>`\n",
    "\n",
    "Realiza una request con el nombre de un pokemon y otra con id utilizando el endpoint dinámico."
   ]
  },
  {
   "cell_type": "code",
   "execution_count": null,
   "metadata": {},
   "outputs": [],
   "source": [
    "#TODO:\n",
    "raise NotImplementedError"
   ]
  },
  {
   "cell_type": "markdown",
   "metadata": {},
   "source": [
    "## 6️⃣ PATCH `/pokedex/<identifier>` (requiere autorización)\n",
    "\n",
    "Modifica las estadísticas de un pokemon con un identificador(id/nombre), para ello deberás enviar en el body de la request un diccionario con uno o varios de los campos: hp, atk, spd"
   ]
  },
  {
   "cell_type": "code",
   "execution_count": null,
   "metadata": {},
   "outputs": [],
   "source": [
    "#TODO:\n",
    "raise NotImplementedError"
   ]
  },
  {
   "cell_type": "markdown",
   "metadata": {},
   "source": [
    "## 7️⃣ DELETE `/pokedex/<identifier>` (requiere autorización)"
   ]
  },
  {
   "cell_type": "code",
   "execution_count": null,
   "metadata": {},
   "outputs": [],
   "source": [
    "#TODO:\n",
    "raise NotImplementedError"
   ]
  },
  {
   "cell_type": "markdown",
   "metadata": {},
   "source": [
    "## 8️⃣ GET `/batalla/<id_pokemon_1>/<id_pokemon_2>`\n",
    "\n",
    "Recibe dos identificadores de pokemon(id/nombre) separados por / "
   ]
  },
  {
   "cell_type": "code",
   "execution_count": null,
   "metadata": {},
   "outputs": [],
   "source": [
    "#TODO:\n",
    "raise NotImplementedError"
   ]
  },
  {
   "cell_type": "markdown",
   "metadata": {},
   "source": [
    "## 9️⃣ GET `/pokedex/` (con filtros por argumentos en la url)\n",
    "\n",
    "Realiza varias requests en las que indiques el valor mínimo de una estadística que deben cumplir los pokemones que devolverá este filtro, los argumentos permitidos son: hp, atk, def y tipos(lista de strings de tipos)"
   ]
  },
  {
   "cell_type": "code",
   "execution_count": null,
   "metadata": {},
   "outputs": [],
   "source": [
    "#TODO:\n",
    "raise NotImplementedError"
   ]
  },
  {
   "cell_type": "markdown",
   "metadata": {},
   "source": [
    "## Pregunta 🤔\n",
    "Se dispone de un servidor con una API de 3 endpoints, donde cada endpoint fue programado correctamente, pero no fue conectado a la solicitud correspondiente:"
   ]
  },
  {
   "cell_type": "code",
   "execution_count": null,
   "metadata": {},
   "outputs": [],
   "source": [
    "from flask import Flask, request\n",
    "\n",
    "app = Flask(__name__)\n",
    "DATABASE = [{\"nombre\": \"Los diarios de la boticaria (2a temp)\", \"caps\": \"-\"},\n",
    "            {\"nombre\": \"Violet Evergarden\", \"caps\": 13}]\n",
    "\n",
    "@app.route(\"/anime/<int:index>\", methods=[\"XXX\"])\n",
    "def funcion_a(index: int):\n",
    "    body_data = request.get_json(force=True)\n",
    "    caps = body_data[\"caps\"]\n",
    "    DATABASE[index][\"caps\"] = caps\n",
    "    return DATABASE[index]\n",
    "\n",
    "@app.route(\"/anime\", methods=[\"XXX\"])\n",
    "def funcion_b():\n",
    "    body_data = request.get_json(force=True)\n",
    "    caps = body_data[\"caps\"]\n",
    "    nombre = body_data[\"nombre\"]\n",
    "    DATABASE.append({\"nombre\": nombre, \"caps\": caps})\n",
    "    return DATABASE[-1]\n",
    "\n",
    "@app.route(\"/anime/buscar/<str:nombre>\", methods=[\"XXX\"])\n",
    "def funcion_c(nombre: str):\n",
    "    return list(filter(lambda d: d[\"nombre\"] == nombre, DATABASE))\n",
    "\n",
    "if __name__ == \"__main__\":\n",
    "    app.run(host=\"localhost\", port=2233)"
   ]
  },
  {
   "cell_type": "markdown",
   "metadata": {},
   "source": [
    "Indique la alternativa que, al reemplazar los \"XXX\", conecta correctamente y respetando el protocolo HTTP, cada uno de los endpoint con la solicitud correspondiente:\n",
    "\n",
    "**A)** funcion_a: PATCH  funcion_b: POST  funcion_c: GET  \n",
    "**B)** funcion_a: GET   funcion_b: POST  funcion_c: PATCH  \n",
    "**C)** funcion_a: PATCH  funcion_b: GET   funcion_c: POST  \n",
    "**D)** funcion_a: POST   funcion_b: PATCH  funcion_c: GET  \n",
    "**E)** funcion_a: POST   funcion_b: GET   funcion_c: PATCH"
   ]
  }
 ],
 "metadata": {
  "colab": {
   "authorship_tag": "ABX9TyN7IyZtZRZTfn5a4b5nBu5L",
   "provenance": []
  },
  "kernelspec": {
   "display_name": "Python 3",
   "language": "python",
   "name": "python3"
  },
  "language_info": {
   "codemirror_mode": {
    "name": "ipython",
    "version": 3
   },
   "file_extension": ".py",
   "mimetype": "text/x-python",
   "name": "python",
   "nbconvert_exporter": "python",
   "pygments_lexer": "ipython3",
   "version": "3.12.9"
  }
 },
 "nbformat": 4,
 "nbformat_minor": 4
}
